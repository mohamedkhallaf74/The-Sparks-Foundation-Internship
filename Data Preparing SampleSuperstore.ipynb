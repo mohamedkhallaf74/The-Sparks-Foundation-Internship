{
 "cells": [
  {
   "cell_type": "markdown",
   "id": "367a0fe5",
   "metadata": {},
   "source": [
    "<span style=\"display:block; text-align:center; font-weight:bold; font-size:larger;\">SampleSuperstore</span>\n"
   ]
  },
  {
   "cell_type": "markdown",
   "id": "5110e6e8",
   "metadata": {},
   "source": [
    "Graduate Rotational Internship Program (**GRIP**) by **The Sparks Foundation**<br>\n",
    "**Mohamed Khallaf**\n"
   ]
  },
  {
   "cell_type": "markdown",
   "id": "f3a04fdb",
   "metadata": {},
   "source": [
    "# Data Accessing"
   ]
  },
  {
   "cell_type": "code",
   "execution_count": 1,
   "id": "249a769c",
   "metadata": {},
   "outputs": [],
   "source": [
    "import numpy as np\n",
    "import pandas as pd\n",
    "from IPython.display import Image, display\n"
   ]
  },
  {
   "cell_type": "markdown",
   "id": "a46505e0",
   "metadata": {},
   "source": [
    "### Loading Data"
   ]
  },
  {
   "cell_type": "code",
   "execution_count": 2,
   "id": "49fd1d2f",
   "metadata": {},
   "outputs": [],
   "source": [
    "df=pd.read_csv(\"SampleSuperstore.csv\",sep=\",\")"
   ]
  },
  {
   "cell_type": "markdown",
   "id": "2d17befb",
   "metadata": {},
   "source": [
    "### Data Overview"
   ]
  },
  {
   "cell_type": "code",
   "execution_count": 3,
   "id": "6495b661",
   "metadata": {},
   "outputs": [
    {
     "data": {
      "text/html": [
       "<div>\n",
       "<style scoped>\n",
       "    .dataframe tbody tr th:only-of-type {\n",
       "        vertical-align: middle;\n",
       "    }\n",
       "\n",
       "    .dataframe tbody tr th {\n",
       "        vertical-align: top;\n",
       "    }\n",
       "\n",
       "    .dataframe thead th {\n",
       "        text-align: right;\n",
       "    }\n",
       "</style>\n",
       "<table border=\"1\" class=\"dataframe\">\n",
       "  <thead>\n",
       "    <tr style=\"text-align: right;\">\n",
       "      <th></th>\n",
       "      <th>Ship Mode</th>\n",
       "      <th>Segment</th>\n",
       "      <th>Country</th>\n",
       "      <th>City</th>\n",
       "      <th>State</th>\n",
       "      <th>Postal Code</th>\n",
       "      <th>Region</th>\n",
       "      <th>Category</th>\n",
       "      <th>Sub-Category</th>\n",
       "      <th>Sales</th>\n",
       "      <th>Quantity</th>\n",
       "      <th>Discount</th>\n",
       "      <th>Profit</th>\n",
       "    </tr>\n",
       "  </thead>\n",
       "  <tbody>\n",
       "    <tr>\n",
       "      <th>0</th>\n",
       "      <td>Second Class</td>\n",
       "      <td>Consumer</td>\n",
       "      <td>United States</td>\n",
       "      <td>Henderson</td>\n",
       "      <td>Kentucky</td>\n",
       "      <td>42420</td>\n",
       "      <td>South</td>\n",
       "      <td>Furniture</td>\n",
       "      <td>Bookcases</td>\n",
       "      <td>261.9600</td>\n",
       "      <td>2</td>\n",
       "      <td>0.00</td>\n",
       "      <td>41.9136</td>\n",
       "    </tr>\n",
       "    <tr>\n",
       "      <th>1</th>\n",
       "      <td>Second Class</td>\n",
       "      <td>Consumer</td>\n",
       "      <td>United States</td>\n",
       "      <td>Henderson</td>\n",
       "      <td>Kentucky</td>\n",
       "      <td>42420</td>\n",
       "      <td>South</td>\n",
       "      <td>Furniture</td>\n",
       "      <td>Chairs</td>\n",
       "      <td>731.9400</td>\n",
       "      <td>3</td>\n",
       "      <td>0.00</td>\n",
       "      <td>219.5820</td>\n",
       "    </tr>\n",
       "    <tr>\n",
       "      <th>2</th>\n",
       "      <td>Second Class</td>\n",
       "      <td>Corporate</td>\n",
       "      <td>United States</td>\n",
       "      <td>Los Angeles</td>\n",
       "      <td>California</td>\n",
       "      <td>90036</td>\n",
       "      <td>West</td>\n",
       "      <td>Office Supplies</td>\n",
       "      <td>Labels</td>\n",
       "      <td>14.6200</td>\n",
       "      <td>2</td>\n",
       "      <td>0.00</td>\n",
       "      <td>6.8714</td>\n",
       "    </tr>\n",
       "    <tr>\n",
       "      <th>3</th>\n",
       "      <td>Standard Class</td>\n",
       "      <td>Consumer</td>\n",
       "      <td>United States</td>\n",
       "      <td>Fort Lauderdale</td>\n",
       "      <td>Florida</td>\n",
       "      <td>33311</td>\n",
       "      <td>South</td>\n",
       "      <td>Furniture</td>\n",
       "      <td>Tables</td>\n",
       "      <td>957.5775</td>\n",
       "      <td>5</td>\n",
       "      <td>0.45</td>\n",
       "      <td>-383.0310</td>\n",
       "    </tr>\n",
       "    <tr>\n",
       "      <th>4</th>\n",
       "      <td>Standard Class</td>\n",
       "      <td>Consumer</td>\n",
       "      <td>United States</td>\n",
       "      <td>Fort Lauderdale</td>\n",
       "      <td>Florida</td>\n",
       "      <td>33311</td>\n",
       "      <td>South</td>\n",
       "      <td>Office Supplies</td>\n",
       "      <td>Storage</td>\n",
       "      <td>22.3680</td>\n",
       "      <td>2</td>\n",
       "      <td>0.20</td>\n",
       "      <td>2.5164</td>\n",
       "    </tr>\n",
       "  </tbody>\n",
       "</table>\n",
       "</div>"
      ],
      "text/plain": [
       "        Ship Mode    Segment        Country             City       State  \\\n",
       "0    Second Class   Consumer  United States        Henderson    Kentucky   \n",
       "1    Second Class   Consumer  United States        Henderson    Kentucky   \n",
       "2    Second Class  Corporate  United States      Los Angeles  California   \n",
       "3  Standard Class   Consumer  United States  Fort Lauderdale     Florida   \n",
       "4  Standard Class   Consumer  United States  Fort Lauderdale     Florida   \n",
       "\n",
       "   Postal Code Region         Category Sub-Category     Sales  Quantity  \\\n",
       "0        42420  South        Furniture    Bookcases  261.9600         2   \n",
       "1        42420  South        Furniture       Chairs  731.9400         3   \n",
       "2        90036   West  Office Supplies       Labels   14.6200         2   \n",
       "3        33311  South        Furniture       Tables  957.5775         5   \n",
       "4        33311  South  Office Supplies      Storage   22.3680         2   \n",
       "\n",
       "   Discount    Profit  \n",
       "0      0.00   41.9136  \n",
       "1      0.00  219.5820  \n",
       "2      0.00    6.8714  \n",
       "3      0.45 -383.0310  \n",
       "4      0.20    2.5164  "
      ]
     },
     "execution_count": 3,
     "metadata": {},
     "output_type": "execute_result"
    }
   ],
   "source": [
    "df.head()"
   ]
  },
  {
   "cell_type": "code",
   "execution_count": 4,
   "id": "c347612b",
   "metadata": {},
   "outputs": [
    {
     "name": "stdout",
     "output_type": "stream",
     "text": [
      "<class 'pandas.core.frame.DataFrame'>\n",
      "RangeIndex: 9994 entries, 0 to 9993\n",
      "Data columns (total 13 columns):\n",
      " #   Column        Non-Null Count  Dtype  \n",
      "---  ------        --------------  -----  \n",
      " 0   Ship Mode     9994 non-null   object \n",
      " 1   Segment       9994 non-null   object \n",
      " 2   Country       9994 non-null   object \n",
      " 3   City          9994 non-null   object \n",
      " 4   State         9994 non-null   object \n",
      " 5   Postal Code   9994 non-null   int64  \n",
      " 6   Region        9994 non-null   object \n",
      " 7   Category      9994 non-null   object \n",
      " 8   Sub-Category  9994 non-null   object \n",
      " 9   Sales         9994 non-null   float64\n",
      " 10  Quantity      9994 non-null   int64  \n",
      " 11  Discount      9994 non-null   float64\n",
      " 12  Profit        9994 non-null   float64\n",
      "dtypes: float64(3), int64(2), object(8)\n",
      "memory usage: 1015.1+ KB\n"
     ]
    }
   ],
   "source": [
    "df.info()"
   ]
  },
  {
   "cell_type": "code",
   "execution_count": 5,
   "id": "4fe2901a",
   "metadata": {},
   "outputs": [
    {
     "data": {
      "text/html": [
       "<div>\n",
       "<style scoped>\n",
       "    .dataframe tbody tr th:only-of-type {\n",
       "        vertical-align: middle;\n",
       "    }\n",
       "\n",
       "    .dataframe tbody tr th {\n",
       "        vertical-align: top;\n",
       "    }\n",
       "\n",
       "    .dataframe thead th {\n",
       "        text-align: right;\n",
       "    }\n",
       "</style>\n",
       "<table border=\"1\" class=\"dataframe\">\n",
       "  <thead>\n",
       "    <tr style=\"text-align: right;\">\n",
       "      <th></th>\n",
       "      <th>Sales</th>\n",
       "      <th>Quantity</th>\n",
       "      <th>Discount</th>\n",
       "      <th>Profit</th>\n",
       "    </tr>\n",
       "  </thead>\n",
       "  <tbody>\n",
       "    <tr>\n",
       "      <th>count</th>\n",
       "      <td>9994.000000</td>\n",
       "      <td>9994.000000</td>\n",
       "      <td>9994.000000</td>\n",
       "      <td>9994.000000</td>\n",
       "    </tr>\n",
       "    <tr>\n",
       "      <th>mean</th>\n",
       "      <td>229.858001</td>\n",
       "      <td>3.789574</td>\n",
       "      <td>0.156203</td>\n",
       "      <td>28.656896</td>\n",
       "    </tr>\n",
       "    <tr>\n",
       "      <th>std</th>\n",
       "      <td>623.245101</td>\n",
       "      <td>2.225110</td>\n",
       "      <td>0.206452</td>\n",
       "      <td>234.260108</td>\n",
       "    </tr>\n",
       "    <tr>\n",
       "      <th>min</th>\n",
       "      <td>0.444000</td>\n",
       "      <td>1.000000</td>\n",
       "      <td>0.000000</td>\n",
       "      <td>-6599.978000</td>\n",
       "    </tr>\n",
       "    <tr>\n",
       "      <th>25%</th>\n",
       "      <td>17.280000</td>\n",
       "      <td>2.000000</td>\n",
       "      <td>0.000000</td>\n",
       "      <td>1.728750</td>\n",
       "    </tr>\n",
       "    <tr>\n",
       "      <th>50%</th>\n",
       "      <td>54.490000</td>\n",
       "      <td>3.000000</td>\n",
       "      <td>0.200000</td>\n",
       "      <td>8.666500</td>\n",
       "    </tr>\n",
       "    <tr>\n",
       "      <th>75%</th>\n",
       "      <td>209.940000</td>\n",
       "      <td>5.000000</td>\n",
       "      <td>0.200000</td>\n",
       "      <td>29.364000</td>\n",
       "    </tr>\n",
       "    <tr>\n",
       "      <th>max</th>\n",
       "      <td>22638.480000</td>\n",
       "      <td>14.000000</td>\n",
       "      <td>0.800000</td>\n",
       "      <td>8399.976000</td>\n",
       "    </tr>\n",
       "  </tbody>\n",
       "</table>\n",
       "</div>"
      ],
      "text/plain": [
       "              Sales     Quantity     Discount       Profit\n",
       "count   9994.000000  9994.000000  9994.000000  9994.000000\n",
       "mean     229.858001     3.789574     0.156203    28.656896\n",
       "std      623.245101     2.225110     0.206452   234.260108\n",
       "min        0.444000     1.000000     0.000000 -6599.978000\n",
       "25%       17.280000     2.000000     0.000000     1.728750\n",
       "50%       54.490000     3.000000     0.200000     8.666500\n",
       "75%      209.940000     5.000000     0.200000    29.364000\n",
       "max    22638.480000    14.000000     0.800000  8399.976000"
      ]
     },
     "execution_count": 5,
     "metadata": {},
     "output_type": "execute_result"
    }
   ],
   "source": [
    "df[['Sales', 'Quantity', 'Discount', 'Profit']].describe()\n"
   ]
  },
  {
   "cell_type": "markdown",
   "id": "338151ea",
   "metadata": {},
   "source": [
    "# Data Wrangling:\n"
   ]
  },
  {
   "cell_type": "markdown",
   "id": "831f867b",
   "metadata": {},
   "source": [
    "### Data Assessment:"
   ]
  },
  {
   "cell_type": "code",
   "execution_count": 6,
   "id": "f00a10a7",
   "metadata": {},
   "outputs": [
    {
     "data": {
      "text/plain": [
       "17"
      ]
     },
     "execution_count": 6,
     "metadata": {},
     "output_type": "execute_result"
    }
   ],
   "source": [
    "df.duplicated().sum()"
   ]
  },
  {
   "cell_type": "code",
   "execution_count": 7,
   "id": "2c3b4609",
   "metadata": {},
   "outputs": [
    {
     "data": {
      "text/plain": [
       "0"
      ]
     },
     "execution_count": 7,
     "metadata": {},
     "output_type": "execute_result"
    }
   ],
   "source": [
    "df.isnull().sum().sum()"
   ]
  },
  {
   "cell_type": "markdown",
   "id": "e47f17fe",
   "metadata": {},
   "source": [
    "### Clean data"
   ]
  },
  {
   "cell_type": "code",
   "execution_count": 8,
   "id": "09973645",
   "metadata": {},
   "outputs": [],
   "source": [
    "# Drop_Duplicates\n",
    "df_new = df.drop_duplicates()"
   ]
  },
  {
   "cell_type": "code",
   "execution_count": 9,
   "id": "6b382a6f",
   "metadata": {},
   "outputs": [
    {
     "data": {
      "text/plain": [
       "0"
      ]
     },
     "execution_count": 9,
     "metadata": {},
     "output_type": "execute_result"
    }
   ],
   "source": [
    "df_new.duplicated().sum()"
   ]
  },
  {
   "cell_type": "markdown",
   "id": "06a7be7e",
   "metadata": {},
   "source": [
    "### Data Saving"
   ]
  },
  {
   "cell_type": "code",
   "execution_count": 11,
   "id": "8c8f320a",
   "metadata": {},
   "outputs": [],
   "source": [
    "df_new.to_csv('CleanedSampleSuperstore.csv', index=False)"
   ]
  },
  {
   "cell_type": "markdown",
   "id": "0baff42e",
   "metadata": {},
   "source": [
    " "
   ]
  },
  {
   "cell_type": "markdown",
   "id": "faf9e7fa",
   "metadata": {},
   "source": [
    " "
   ]
  },
  {
   "cell_type": "markdown",
   "id": "309327ca",
   "metadata": {},
   "source": [
    "  "
   ]
  },
  {
   "cell_type": "markdown",
   "id": "066de750",
   "metadata": {},
   "source": [
    "## Conclusions:"
   ]
  },
  {
   "cell_type": "markdown",
   "id": "e4e2bf2f",
   "metadata": {},
   "source": [
    "**Tip:** Through our operations(Data Wrangling,EDA), we were able to ask and answer some questions we posed and represent them graphically,<br>I came out with some very interesting facts. After this analysis we can conclude following:\n",
    "\n",
    "Using this data, we were able to find out which States have Highest Sales an Profits & also Lowest Sales and Profits, and thus know the Where We should do more effort to increase sales and profits .\n"
   ]
  },
  {
   "cell_type": "markdown",
   "id": "0f442cec",
   "metadata": {},
   "source": [
    "### Question 1\n",
    "\n",
    "we asked about: Total sales & Total profits & Total Discount?<br>\n",
    "we find that Total sales is (2.30M) , Total profits is (286.24k) & Total Discount is (1.56k) "
   ]
  },
  {
   "cell_type": "markdown",
   "id": "72368261",
   "metadata": {},
   "source": [
    "### Question 2\n",
    "we asked about :Highest Top 5 States in Sales?<br>\n",
    "    To answer to this question we use Clasterd bar chart between State and sales column with Top N Filter we found that: <br>\n",
    "**1st** Highest State in Sales Is calefornia by: 0.48 M<br>\n",
    "**2st** Highest State in Sales Is New York  by: 0.31 M<br>\n",
    "**3st** Highest State in Sales Is Texas by: 0.17 M Despite this, we found that it is one of the least profitable satates by -27.750K<br>\n",
    "**4st** Highest State in Sales Is Washington by: 0.14 M<br>\n",
    "**5st** Highest State in Sales Is Pennsylvania by: 0.12 M<br>"
   ]
  },
  {
   "cell_type": "markdown",
   "id": "89102320",
   "metadata": {},
   "source": [
    "### Question 3\n",
    "we asked about : Lowest Top 5 States in Sales?<br>\n",
    "   To answer to this question we use Clasterd bar chart between State and sales column with Bottom N Filter we found that <br>\n",
    "**1st** lowest State in Sales Is North Dakota by: 0.9 K<br>\n",
    "**2st** lowest State in Sales Is West Virginia  by: 1.2 K<br>\n",
    "**3st** lowest State in Sales Is Maine by: 1.3 K <br>\n",
    "**4st** lowest State in Sales Is South Dakota by: 1.3 K <br>\n",
    "**5st** lowest State in Sales Is Wyoming by: 1.6 K <br>\n",
    "    "
   ]
  },
  {
   "cell_type": "markdown",
   "id": "9aef956a",
   "metadata": {},
   "source": [
    "### Question 4\n",
    "\n",
    "we asked about :Sales volume for categories versus profits?<br>\n",
    "    To answer to this question we use Clasterd column chart between profits,sales & Category column we found that<br>\n",
    "**1st** Highest Category in Sales Is *Technology* by: 0.84 M<br>\n",
    "**2st** Highest Category in Sales Is *Furniture* by: 0.74 M<br>\n",
    "Lowest Category in Sales Is Office *Supplies* by: 0.72 M<br>\n",
    "<br>\n",
    "**1st** Highest Category in profits Is *Technology* by: 0.15 M<br>\n",
    "**2st** Highest Category in profits Is *Office Supplies* by: 0.12 M<br>\n",
    "Lowest Category in profits Is *Furniture* by: 0.02 M<br>"
   ]
  },
  {
   "cell_type": "markdown",
   "id": "d6108477",
   "metadata": {},
   "source": [
    "### Question 5\n",
    "\n",
    "we asked about :Total Profits per State?<br>\n",
    "    To answer to this question we use Filled Map between State and sales column<br>\n",
    "    we can see all details on map Total Profits , Total Sales &  also Total Discount<br>"
   ]
  },
  {
   "cell_type": "markdown",
   "id": "975244bb",
   "metadata": {},
   "source": [
    "### Question 6\n",
    "\n",
    "we asked about :total sales by Region,State and city ?<br>\n",
    "    To answer to this question we use Line chart between Region,State, city as a drilldown and sales column<br>\n",
    "    we can see all details on line Chart Total Sales<br>\n",
    "Highest Region in Sales Is West by: 0.73 M<br>\n",
    "Lowest Region in Sales Is South by: 0.39 M<br>"
   ]
  },
  {
   "cell_type": "markdown",
   "id": "8af145cf",
   "metadata": {},
   "source": [
    "### Question 7\n",
    "we asked about : total sales and total profits by Ship mode?<br>\n",
    "    To answer to this question we use Clasterd bar chart between State and sales column<br>\n",
    "Highest Ship Mode in Sales & Profits Is Standard Class by Sales: 1.36M , Profits:164K<br>\n",
    "Lowest Ship Mode in Sales & Profits Is Same Day by Sales: 0.13M , Profits:16K<br>\n"
   ]
  },
  {
   "cell_type": "markdown",
   "id": "3c1a39ef",
   "metadata": {},
   "source": [
    "### Question 8\n",
    "we asked about :total sales and total profits by Segmant?<br>\n",
    "    To answer to this question we use Clasterd bar chart between State and sales column<br>\n",
    "Highest Segment in Sales & Profits Is Technology by Sales: 1.16 M , Profits:134 K<br>\n",
    "Lowest Segment in Sales & Profits Is Office Supplies by Sales: 0.43M , Profits:60K<br>\n"
   ]
  },
  {
   "cell_type": "markdown",
   "id": "67d9121b",
   "metadata": {},
   "source": [
    " "
   ]
  },
  {
   "cell_type": "markdown",
   "id": "32bc75bc",
   "metadata": {},
   "source": [
    "<span style=\"display:block; text-align:center; font-weight:bold; font-size:larger;\">Thanks For Your time,Mohamed Khallaf </span>\n",
    "<span style=\"display:block; text-align:center; font-weight:bold; font-size:larger;\">Mohamed Khallaf </span>\n"
   ]
  }
 ],
 "metadata": {
  "kernelspec": {
   "display_name": "Python 3 (ipykernel)",
   "language": "python",
   "name": "python3"
  },
  "language_info": {
   "codemirror_mode": {
    "name": "ipython",
    "version": 3
   },
   "file_extension": ".py",
   "mimetype": "text/x-python",
   "name": "python",
   "nbconvert_exporter": "python",
   "pygments_lexer": "ipython3",
   "version": "3.10.9"
  }
 },
 "nbformat": 4,
 "nbformat_minor": 5
}
